{
  "nbformat": 4,
  "nbformat_minor": 0,
  "metadata": {
    "colab": {
      "provenance": []
    },
    "kernelspec": {
      "name": "python3",
      "display_name": "Python 3"
    },
    "language_info": {
      "name": "python"
    }
  },
  "cells": [
    {
      "cell_type": "markdown",
      "source": [
        "**MODEL BUILDING**"
      ],
      "metadata": {
        "id": "MH2Qk35N7dsN"
      }
    },
    {
      "cell_type": "markdown",
      "source": [
        "1)Add CNN layers"
      ],
      "metadata": {
        "id": "79LcSyE472Q9"
      }
    },
    {
      "cell_type": "code",
      "source": [
        "model=Sequential()\n",
        "model.add(Conv2D(64,(3,3),input_shape=(28,28,1),activation='relu'))\n",
        "model.add(Conv2D(32,(3,3),activation='relu'))"
      ],
      "metadata": {
        "id": "BRgY8gLl7sjo"
      },
      "execution_count": 12,
      "outputs": []
    },
    {
      "cell_type": "code",
      "source": [
        "model.add(Flatten())\n",
        "model.add(Dense(no_of_classes,activation='softmax'))"
      ],
      "metadata": {
        "id": "Ood_L5mw7svP"
      },
      "execution_count": 13,
      "outputs": []
    },
    {
      "cell_type": "markdown",
      "source": [
        "2)Compiling the model"
      ],
      "metadata": {
        "id": "hHrsI7Bf91iS"
      }
    },
    {
      "cell_type": "code",
      "source": [
        "model.compile(loss='categorical_crossentropy',optimizer='Adam',metrics='accuracy')"
      ],
      "metadata": {
        "id": "f2AVrGqm-EOx"
      },
      "execution_count": 14,
      "outputs": []
    },
    {
      "cell_type": "markdown",
      "source": [
        "3)Train the model"
      ],
      "metadata": {
        "id": "xYaMSrzK-UOd"
      }
    },
    {
      "cell_type": "code",
      "source": [
        "model.fit(x_train,y_train,validation_data=(x_test,y_test),epochs=5,batch_size=32)"
      ],
      "metadata": {
        "colab": {
          "base_uri": "https://localhost:8080/"
        },
        "id": "JB-ejggC7s3H",
        "outputId": "07eb7731-be8d-4089-8ad8-37e4c0620abb"
      },
      "execution_count": 16,
      "outputs": [
        {
          "output_type": "stream",
          "name": "stdout",
          "text": [
            "Epoch 1/5\n",
            "1875/1875 [==============================] - 219s 117ms/step - loss: 0.1189 - accuracy: 0.9650 - val_loss: 0.0904 - val_accuracy: 0.9730\n",
            "Epoch 2/5\n",
            "1875/1875 [==============================] - 227s 121ms/step - loss: 0.0625 - accuracy: 0.9807 - val_loss: 0.0841 - val_accuracy: 0.9753\n",
            "Epoch 3/5\n",
            "1875/1875 [==============================] - 209s 112ms/step - loss: 0.0449 - accuracy: 0.9856 - val_loss: 0.0978 - val_accuracy: 0.9737\n",
            "Epoch 4/5\n",
            "1875/1875 [==============================] - 198s 106ms/step - loss: 0.0334 - accuracy: 0.9895 - val_loss: 0.0886 - val_accuracy: 0.9769\n",
            "Epoch 5/5\n",
            "1875/1875 [==============================] - 199s 106ms/step - loss: 0.0258 - accuracy: 0.9912 - val_loss: 0.1055 - val_accuracy: 0.9784\n"
          ]
        },
        {
          "output_type": "execute_result",
          "data": {
            "text/plain": [
              "<keras.callbacks.History at 0x7f97db57df90>"
            ]
          },
          "metadata": {},
          "execution_count": 16
        }
      ]
    },
    {
      "cell_type": "markdown",
      "source": [
        "4)Observing the metrics"
      ],
      "metadata": {
        "id": "sGdzZcrK_JGj"
      }
    },
    {
      "cell_type": "code",
      "source": [
        "metrics=model.evaluate(x_test,y_test,verbose=0)\n",
        "print(\"Test loss and Accuracy: \")\n",
        "print(metrics)"
      ],
      "metadata": {
        "colab": {
          "base_uri": "https://localhost:8080/"
        },
        "id": "EywfSZY3_MEr",
        "outputId": "92568b42-74a9-4871-ac4a-c35d9314b1a2"
      },
      "execution_count": 19,
      "outputs": [
        {
          "output_type": "stream",
          "name": "stdout",
          "text": [
            "Test loss and Accuracy: \n",
            "[0.1054532378911972, 0.9783999919891357]\n"
          ]
        }
      ]
    },
    {
      "cell_type": "markdown",
      "source": [
        "5)Test the model"
      ],
      "metadata": {
        "id": "TdMEoNc-_gJR"
      }
    },
    {
      "cell_type": "code",
      "source": [
        "prediction=model.predict(x_test[:4])\n",
        "print(prediction)"
      ],
      "metadata": {
        "colab": {
          "base_uri": "https://localhost:8080/"
        },
        "id": "-SB4lUh4_dlD",
        "outputId": "a2350ed1-a872-4166-fa58-0a230ca57129"
      },
      "execution_count": 20,
      "outputs": [
        {
          "output_type": "stream",
          "name": "stdout",
          "text": [
            "1/1 [==============================] - 0s 98ms/step\n",
            "[[1.51065209e-13 6.44978494e-25 8.65963659e-14 3.26825962e-11\n",
            "  9.47202940e-25 1.19114804e-18 1.28429745e-26 1.00000000e+00\n",
            "  1.38301835e-15 8.26784455e-14]\n",
            " [1.31778583e-12 7.81938804e-15 1.00000000e+00 9.68105223e-18\n",
            "  4.99522820e-21 5.18862822e-22 1.34380164e-13 2.48633281e-22\n",
            "  2.61236426e-13 4.69462156e-22]\n",
            " [1.68172698e-09 9.99995112e-01 5.34883355e-08 5.99780919e-11\n",
            "  4.23711890e-06 8.22161255e-08 1.89944838e-09 5.62873588e-08\n",
            "  4.28927081e-07 1.08554459e-11]\n",
            " [1.00000000e+00 2.61482245e-24 2.43567861e-13 1.02484143e-19\n",
            "  1.69990000e-18 1.52674599e-13 4.49064848e-11 5.47756249e-16\n",
            "  2.84870224e-15 1.86999041e-10]]\n"
          ]
        }
      ]
    },
    {
      "cell_type": "code",
      "source": [
        "print(np.argmax(prediction,axis=1))\n",
        "print(y_test[:4])"
      ],
      "metadata": {
        "colab": {
          "base_uri": "https://localhost:8080/"
        },
        "id": "ZZZXtSkX_G2z",
        "outputId": "f7408a54-1fca-43ed-a2f7-cbde42e864bd"
      },
      "execution_count": 21,
      "outputs": [
        {
          "output_type": "stream",
          "name": "stdout",
          "text": [
            "[7 2 1 0]\n",
            "[[0. 0. 0. 0. 0. 0. 0. 1. 0. 0.]\n",
            " [0. 0. 1. 0. 0. 0. 0. 0. 0. 0.]\n",
            " [0. 1. 0. 0. 0. 0. 0. 0. 0. 0.]\n",
            " [1. 0. 0. 0. 0. 0. 0. 0. 0. 0.]]\n"
          ]
        }
      ]
    },
    {
      "cell_type": "markdown",
      "source": [
        "6)Save the model"
      ],
      "metadata": {
        "id": "zWBwEqHHAb0A"
      }
    },
    {
      "cell_type": "code",
      "source": [
        "from google.colab import drive\n",
        "drive.mount('/content/drive')"
      ],
      "metadata": {
        "colab": {
          "base_uri": "https://localhost:8080/"
        },
        "id": "Pww_W9lbBwZQ",
        "outputId": "f1511650-8fa3-4cae-ac78-cc0bf7c3519b"
      },
      "execution_count": 22,
      "outputs": [
        {
          "output_type": "stream",
          "name": "stdout",
          "text": [
            "Mounted at /content/drive\n"
          ]
        }
      ]
    },
    {
      "cell_type": "code",
      "source": [
        "cd /content/drive/MyDrive/Ibm"
      ],
      "metadata": {
        "colab": {
          "base_uri": "https://localhost:8080/"
        },
        "id": "6324-7ZKB5zv",
        "outputId": "e09c6e15-35a9-487a-be8f-43f3f50a3f6f"
      },
      "execution_count": 23,
      "outputs": [
        {
          "output_type": "stream",
          "name": "stdout",
          "text": [
            "/content/drive/MyDrive/Ibm\n"
          ]
        }
      ]
    },
    {
      "cell_type": "code",
      "source": [
        "model.save('mnistCNN.h5')"
      ],
      "metadata": {
        "id": "Nj2RZAgTAgdD"
      },
      "execution_count": 24,
      "outputs": []
    },
    {
      "cell_type": "code",
      "source": [
        "ls"
      ],
      "metadata": {
        "colab": {
          "base_uri": "https://localhost:8080/"
        },
        "id": "Tzkf6WJ-B7Xv",
        "outputId": "355a3971-1860-473a-928c-aaf70a12ba29"
      },
      "execution_count": 25,
      "outputs": [
        {
          "output_type": "stream",
          "name": "stdout",
          "text": [
            "flower_model.h5  \u001b[0m\u001b[01;34mflowers\u001b[0m/  \u001b[01;34mFlowers-Dataset\u001b[0m/  mnistCNN.h5\n"
          ]
        }
      ]
    },
    {
      "cell_type": "markdown",
      "source": [
        "7)Test with the saved model"
      ],
      "metadata": {
        "id": "EvgAmWeqAws5"
      }
    },
    {
      "cell_type": "code",
      "source": [
        "model=load_model('mnistCNN.h5')"
      ],
      "metadata": {
        "id": "W6JolRfvAggd"
      },
      "execution_count": 60,
      "outputs": []
    },
    {
      "cell_type": "code",
      "source": [
        "for index in range(4):\n",
        "  img=Image.open('/content/sample_data/data/'+str(index)+\".PNG\").convert(\"L\")\n",
        "  img=img.resize((28,28))\n",
        "  im2arr=np.array(img)\n",
        "  im2arr=im2arr.reshape(1,28,28,1)\n",
        "  y_pred=model.predict(im2arr)\n",
        "  print(y_pred)"
      ],
      "metadata": {
        "colab": {
          "base_uri": "https://localhost:8080/"
        },
        "id": "6RUMHx3tNV9T",
        "outputId": "7d13fd46-5da6-4f3c-db94-05ae34321f8f"
      },
      "execution_count": 61,
      "outputs": [
        {
          "output_type": "stream",
          "name": "stdout",
          "text": [
            "1/1 [==============================] - 0s 66ms/step\n",
            "[[9.6982789e-01 8.0017298e-11 1.7484292e-02 1.2110131e-07 4.9013915e-03\n",
            "  1.3137920e-08 3.1711286e-05 7.4076587e-03 7.4812192e-06 3.3949470e-04]]\n",
            "1/1 [==============================] - 0s 19ms/step\n",
            "[[1.6196250e-03 7.0740223e-01 1.4011368e-01 9.5595919e-07 1.5306512e-03\n",
            "  3.2095194e-03 2.6291044e-02 5.3347758e-06 1.1982681e-01 3.6839186e-08]]\n",
            "1/1 [==============================] - 0s 22ms/step\n",
            "[[7.9126934e-11 2.3904523e-08 1.0000000e+00 5.2559366e-09 3.7665665e-12\n",
            "  4.2872839e-09 5.1730562e-14 5.5101497e-09 1.9257273e-08 6.3589800e-09]]\n",
            "1/1 [==============================] - 0s 20ms/step\n",
            "[[7.4970056e-15 9.0065892e-11 1.4669507e-07 9.9997354e-01 3.3319944e-16\n",
            "  2.1856363e-10 1.6070186e-15 2.6371266e-05 3.8795996e-08 1.4198370e-08]]\n"
          ]
        }
      ]
    }
  ]
}