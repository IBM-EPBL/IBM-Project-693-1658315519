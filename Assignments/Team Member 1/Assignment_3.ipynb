{
  "nbformat": 4,
  "nbformat_minor": 0,
  "metadata": {
    "colab": {
      "provenance": []
    },
    "kernelspec": {
      "name": "python3",
      "display_name": "Python 3"
    },
    "language_info": {
      "name": "python"
    }
  },
  "cells": [
    {
      "cell_type": "code",
      "source": [
        "from google.colab import drive\n",
        "drive.mount('/content/drive')"
      ],
      "metadata": {
        "id": "nSd3mjur-PwZ",
        "colab": {
          "base_uri": "https://localhost:8080/"
        },
        "outputId": "67c0c549-5da0-4d96-f1fa-dfc4ad5e1700"
      },
      "execution_count": 1,
      "outputs": [
        {
          "output_type": "stream",
          "name": "stdout",
          "text": [
            "Mounted at /content/drive\n"
          ]
        }
      ]
    },
    {
      "cell_type": "code",
      "source": [
        "cd /content/drive/MyDrive/Ibm"
      ],
      "metadata": {
        "id": "-TCEaLSXBFfv",
        "colab": {
          "base_uri": "https://localhost:8080/"
        },
        "outputId": "4c3a47ce-c6c7-4f13-9bb2-84e52e3c026b"
      },
      "execution_count": 2,
      "outputs": [
        {
          "output_type": "stream",
          "name": "stdout",
          "text": [
            "/content/drive/MyDrive/Ibm\n"
          ]
        }
      ]
    },
    {
      "cell_type": "code",
      "source": [
        "ls"
      ],
      "metadata": {
        "id": "XLSAUrQTBTEl",
        "colab": {
          "base_uri": "https://localhost:8080/"
        },
        "outputId": "e7f98ece-9b34-44a5-ba20-5bb58deea504"
      },
      "execution_count": 3,
      "outputs": [
        {
          "output_type": "stream",
          "name": "stdout",
          "text": [
            "\u001b[0m\u001b[01;34mflowers\u001b[0m/  \u001b[01;34mFlowers-Dataset\u001b[0m/\n"
          ]
        }
      ]
    },
    {
      "cell_type": "code",
      "execution_count": 4,
      "metadata": {
        "id": "UaWqeFnL2ioV"
      },
      "outputs": [],
      "source": [
        "import tensorflow as tf\n",
        "import keras_preprocessing\n",
        "from keras_preprocessing import image\n",
        "from keras_preprocessing.image import ImageDataGenerator"
      ]
    },
    {
      "cell_type": "markdown",
      "source": [
        "Image augmentation"
      ],
      "metadata": {
        "id": "NvU5nN4o-U7J"
      }
    },
    {
      "cell_type": "code",
      "source": [
        "training_datagen = ImageDataGenerator(\n",
        "      rescale = 1./255,\n",
        "\t    rotation_range=40,\n",
        "      width_shift_range=0.2,\n",
        "      height_shift_range=0.2,\n",
        "      shear_range=0.2,\n",
        "      zoom_range=0.2,\n",
        "      horizontal_flip=True,\n",
        "      fill_mode='nearest')"
      ],
      "metadata": {
        "id": "chQb_Kg7-QVu"
      },
      "execution_count": 5,
      "outputs": []
    },
    {
      "cell_type": "code",
      "source": [
        "train_generator = training_datagen.flow_from_directory(\n",
        "\tr\"/content/drive/MyDrive/Ibm/flowers\",\n",
        "\ttarget_size=(64,64),\n",
        "\tclass_mode='categorical',\n",
        "  batch_size=30)"
      ],
      "metadata": {
        "id": "rupL_V-C-Xz0",
        "colab": {
          "base_uri": "https://localhost:8080/"
        },
        "outputId": "2102ab25-d76e-40c1-a3de-b7c52ee8b2c6"
      },
      "execution_count": 6,
      "outputs": [
        {
          "output_type": "stream",
          "name": "stdout",
          "text": [
            "Found 4327 images belonging to 5 classes.\n"
          ]
        }
      ]
    },
    {
      "cell_type": "markdown",
      "source": [
        "Create model and add layers"
      ],
      "metadata": {
        "id": "f8co3Jjf_C1k"
      }
    },
    {
      "cell_type": "code",
      "source": [
        "model = tf.keras.models.Sequential([\n",
        "    tf.keras.layers.Conv2D(64, (3,3), activation='relu',input_shape=(64,64,3)),\n",
        "    tf.keras.layers.MaxPooling2D(2, 2),\n",
        "    tf.keras.layers.Conv2D(64, (3,3), activation='relu'),\n",
        "    tf.keras.layers.MaxPooling2D(2,2),\n",
        "    tf.keras.layers.Flatten(),\n",
        "    tf.keras.layers.Dropout(0.5),\n",
        "    tf.keras.layers.Dense(512, activation='relu'),\n",
        "    tf.keras.layers.Dense(5, activation='softmax')\n",
        "])"
      ],
      "metadata": {
        "id": "2OCUbIIJ_CJc"
      },
      "execution_count": 7,
      "outputs": []
    },
    {
      "cell_type": "markdown",
      "source": [
        "Compiling and fitting model"
      ],
      "metadata": {
        "id": "iBtG6hiP_I1v"
      }
    },
    {
      "cell_type": "code",
      "source": [
        "model.compile(loss = 'categorical_crossentropy', optimizer='adam', metrics=['accuracy'])\n",
        "history = model.fit(train_generator, epochs=25, steps_per_epoch=5, verbose = 1, validation_steps=3)"
      ],
      "metadata": {
        "id": "1kz6nIMh-X2Y",
        "colab": {
          "base_uri": "https://localhost:8080/"
        },
        "outputId": "3d4d5ab0-5962-4218-ab9c-0257ffa33551"
      },
      "execution_count": 9,
      "outputs": [
        {
          "output_type": "stream",
          "name": "stdout",
          "text": [
            "Epoch 1/25\n",
            "5/5 [==============================] - 9s 2s/step - loss: 1.5446 - accuracy: 0.3867\n",
            "Epoch 2/25\n",
            "5/5 [==============================] - 9s 2s/step - loss: 1.3645 - accuracy: 0.4267\n",
            "Epoch 3/25\n",
            "5/5 [==============================] - 9s 2s/step - loss: 1.2215 - accuracy: 0.4800\n",
            "Epoch 4/25\n",
            "5/5 [==============================] - 9s 2s/step - loss: 1.1867 - accuracy: 0.4467\n",
            "Epoch 5/25\n",
            "5/5 [==============================] - 9s 2s/step - loss: 1.3113 - accuracy: 0.4333\n",
            "Epoch 6/25\n",
            "5/5 [==============================] - 10s 2s/step - loss: 1.1852 - accuracy: 0.5267\n",
            "Epoch 7/25\n",
            "5/5 [==============================] - 9s 2s/step - loss: 1.2911 - accuracy: 0.4867\n",
            "Epoch 8/25\n",
            "5/5 [==============================] - 8s 2s/step - loss: 1.2384 - accuracy: 0.4733\n",
            "Epoch 9/25\n",
            "5/5 [==============================] - 6s 1s/step - loss: 1.1748 - accuracy: 0.5512\n",
            "Epoch 10/25\n",
            "5/5 [==============================] - 8s 1s/step - loss: 1.2802 - accuracy: 0.5067\n",
            "Epoch 11/25\n",
            "5/5 [==============================] - 9s 2s/step - loss: 1.1944 - accuracy: 0.4667\n",
            "Epoch 12/25\n",
            "5/5 [==============================] - 7s 1s/step - loss: 1.1823 - accuracy: 0.4667\n",
            "Epoch 13/25\n",
            "5/5 [==============================] - 9s 2s/step - loss: 1.1319 - accuracy: 0.5933\n",
            "Epoch 14/25\n",
            "5/5 [==============================] - 7s 1s/step - loss: 1.1348 - accuracy: 0.5533\n",
            "Epoch 15/25\n",
            "5/5 [==============================] - 6s 1s/step - loss: 1.1012 - accuracy: 0.5533\n",
            "Epoch 16/25\n",
            "5/5 [==============================] - 6s 1s/step - loss: 1.1872 - accuracy: 0.4933\n",
            "Epoch 17/25\n",
            "5/5 [==============================] - 4s 832ms/step - loss: 1.1422 - accuracy: 0.5533\n",
            "Epoch 18/25\n",
            "5/5 [==============================] - 7s 1s/step - loss: 1.1613 - accuracy: 0.5067\n",
            "Epoch 19/25\n",
            "5/5 [==============================] - 5s 941ms/step - loss: 1.0420 - accuracy: 0.5600\n",
            "Epoch 20/25\n",
            "5/5 [==============================] - 5s 925ms/step - loss: 1.1053 - accuracy: 0.5267\n",
            "Epoch 21/25\n",
            "5/5 [==============================] - 6s 1s/step - loss: 1.0787 - accuracy: 0.5333\n",
            "Epoch 22/25\n",
            "5/5 [==============================] - 6s 975ms/step - loss: 1.0754 - accuracy: 0.5667\n",
            "Epoch 23/25\n",
            "5/5 [==============================] - 4s 625ms/step - loss: 1.0402 - accuracy: 0.5591\n",
            "Epoch 24/25\n",
            "5/5 [==============================] - 5s 851ms/step - loss: 1.2407 - accuracy: 0.5333\n",
            "Epoch 25/25\n",
            "5/5 [==============================] - 5s 987ms/step - loss: 1.1575 - accuracy: 0.5800\n"
          ]
        }
      ]
    },
    {
      "cell_type": "markdown",
      "source": [
        "Saving the model"
      ],
      "metadata": {
        "id": "iFQBc0Ge_XDg"
      }
    },
    {
      "cell_type": "code",
      "source": [
        "cd /content/drive/MyDrive/Ibm"
      ],
      "metadata": {
        "id": "vZAwWfFX_SRs",
        "colab": {
          "base_uri": "https://localhost:8080/"
        },
        "outputId": "ed559b71-1c79-45f0-c4e0-c886ecdeec67"
      },
      "execution_count": 10,
      "outputs": [
        {
          "output_type": "stream",
          "name": "stdout",
          "text": [
            "/content/drive/MyDrive/Ibm\n"
          ]
        }
      ]
    },
    {
      "cell_type": "code",
      "source": [
        "model.save(\"flower_model.h5\")"
      ],
      "metadata": {
        "id": "kTc4PquO_a5M"
      },
      "execution_count": 11,
      "outputs": []
    },
    {
      "cell_type": "code",
      "source": [
        "ls"
      ],
      "metadata": {
        "id": "GCr9ZcKE_ici",
        "colab": {
          "base_uri": "https://localhost:8080/"
        },
        "outputId": "bd517e2c-7f10-4684-acc3-122bbc596a21"
      },
      "execution_count": 12,
      "outputs": [
        {
          "output_type": "stream",
          "name": "stdout",
          "text": [
            "flower_model.h5  \u001b[0m\u001b[01;34mflowers\u001b[0m/  \u001b[01;34mFlowers-Dataset\u001b[0m/\n"
          ]
        }
      ]
    },
    {
      "cell_type": "markdown",
      "source": [
        "Testing the model"
      ],
      "metadata": {
        "id": "1iadaNJG_TKP"
      }
    },
    {
      "cell_type": "code",
      "source": [
        "from keras.models import load_model\n",
        "from keras.preprocessing import image\n",
        "import numpy as np"
      ],
      "metadata": {
        "id": "p-DFV-S5-X52"
      },
      "execution_count": 13,
      "outputs": []
    },
    {
      "cell_type": "code",
      "source": [
        "models=load_model(\"/content/drive/MyDrive/Ibm/flower_model.h5\")"
      ],
      "metadata": {
        "id": "lgyhh1XG-QZL"
      },
      "execution_count": 14,
      "outputs": []
    },
    {
      "cell_type": "code",
      "source": [
        "img=image.load_img(\"/content/sunflower.jpg\",target_size=(64,64))"
      ],
      "metadata": {
        "id": "Mwbx__xr_quP"
      },
      "execution_count": 15,
      "outputs": []
    },
    {
      "cell_type": "code",
      "source": [
        "img"
      ],
      "metadata": {
        "id": "X9J01ZBC_qx0",
        "colab": {
          "base_uri": "https://localhost:8080/",
          "height": 81
        },
        "outputId": "7c65d772-9456-4ef3-f9b5-159c58bc4b01"
      },
      "execution_count": 16,
      "outputs": [
        {
          "output_type": "execute_result",
          "data": {
            "text/plain": [
              "<PIL.Image.Image image mode=RGB size=64x64 at 0x7FEC3B9DEE10>"
            ],
            "image/png": "[encoded data removed]"
          },
          "metadata": {},
          "execution_count": 16
        }
      ]
    },
    {
      "cell_type": "code",
      "source": [
        "x=image.img_to_array(img)\n",
        "x=np.expand_dims(x,axis=0)\n",
        "pred=models.predict(x)"
      ],
      "metadata": {
        "id": "9gIikx9R_xjB"
      },
      "execution_count": 17,
      "outputs": []
    },
    {
      "cell_type": "code",
      "source": [
        "pred"
      ],
      "metadata": {
        "id": "WkE19Nqx_xlO",
        "colab": {
          "base_uri": "https://localhost:8080/"
        },
        "outputId": "054f81a0-1cbf-4332-aa55-415520d7a678"
      },
      "execution_count": 18,
      "outputs": [
        {
          "output_type": "execute_result",
          "data": {
            "text/plain": [
              "array([[0., 0., 0., 1., 0.]], dtype=float32)"
            ]
          },
          "metadata": {},
          "execution_count": 18
        }
      ]
    },
    {
      "cell_type": "code",
      "source": [
        "labels=[\"daisy\",\" dandelion\",\"rose\",\"sunflower\",\"tulip\"]\n",
        "y=np.argmax(pred)"
      ],
      "metadata": {
        "id": "uh9dUIka_xnk"
      },
      "execution_count": 19,
      "outputs": []
    },
    {
      "cell_type": "code",
      "source": [
        "print(y)\n",
        "print(labels[y])"
      ],
      "metadata": {
        "id": "ZyQwku8g_xq-",
        "colab": {
          "base_uri": "https://localhost:8080/"
        },
        "outputId": "2d88a379-5bf2-410c-84d3-6852905fc3a4"
      },
      "execution_count": 20,
      "outputs": [
        {
          "output_type": "stream",
          "name": "stdout",
          "text": [
            "3\n",
            "sunflower\n"
          ]
        }
      ]
    }
  ]
}